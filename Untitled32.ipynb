{
  "nbformat": 4,
  "nbformat_minor": 0,
  "metadata": {
    "colab": {
      "provenance": [],
      "authorship_tag": "ABX9TyPhV+GUw5OXF9w2ZGvUPxof",
      "include_colab_link": true
    },
    "kernelspec": {
      "name": "python3",
      "display_name": "Python 3"
    },
    "language_info": {
      "name": "python"
    }
  },
  "cells": [
    {
      "cell_type": "markdown",
      "metadata": {
        "id": "view-in-github",
        "colab_type": "text"
      },
      "source": [
        "<a href=\"https://colab.research.google.com/github/KOFIYEB/projects/blob/main/Untitled32.ipynb\" target=\"_parent\"><img src=\"https://colab.research.google.com/assets/colab-badge.svg\" alt=\"Open In Colab\"/></a>"
      ]
    },
    {
      "cell_type": "markdown",
      "source": [
        "# **Chatbox with Zephyr 7B**\n",
        "\n",
        "---\n",
        "\n"
      ],
      "metadata": {
        "id": "wLgU__PsfHva"
      }
    },
    {
      "cell_type": "markdown",
      "source": [
        "We will develop a chatbot using **Zephyr 7B**, a well-regarded conversational model that has been enhanced through fine-tuning with Mistral 7B. Crafted by the Hugging Face H4 team, Zephyr 7B Beta has demonstrated superior performance compared to GPT-3.5, LLama 2 70B, and other models in the 7B size category, as evidenced by the Alpaca Leaderboard rankings. Additionally, Zephyr 7B offers the advantage of being significantly more compact, requiring only 4% of the storage space needed for GPT-3.5."
      ],
      "metadata": {
        "id": "oDxdhdwbfSlv"
      }
    },
    {
      "cell_type": "markdown",
      "source": [
        "# **Load Packages**"
      ],
      "metadata": {
        "id": "sYe7FrmogwSl"
      }
    },
    {
      "cell_type": "code",
      "execution_count": null,
      "metadata": {
        "id": "TpF2Hc0e7OHw"
      },
      "outputs": [],
      "source": [
        "# You only need to run this once, even if you re-start the kernel or machine\n",
        "# Remove the -q to print install output\n",
        "!pip install -q -U git+https://github.com/huggingface/transformers.git\n",
        "!pip install -q -U accelerate jupyter ipywidgets"
      ]
    },
    {
      "cell_type": "markdown",
      "source": [
        "# **Load Model**"
      ],
      "metadata": {
        "id": "Wv4zVP3JhGbF"
      }
    },
    {
      "cell_type": "markdown",
      "source": [
        "In this section, we initialize the model. You're welcome to substitute it with any conversational or instructional model from Hugging Face, ensuring that you adjust the \"roles\" accordingly as outlined below. However, this model is for now highly recommended."
      ],
      "metadata": {
        "id": "DoYTQmR2hMSK"
      }
    },
    {
      "cell_type": "code",
      "source": [
        "models_dict = {\n",
        "    \"Zephyr 7B Alpha\": \"HuggingFaceH4/zephyr-7b-alpha\",\n",
        "    \"Zephyr 7B Beta\": \"HuggingFaceH4/zephyr-7b-beta\",\n",
        "    # You can add more chat/instruct models here\n",
        "}\n",
        "\n",
        "model_id = models_dict[\"Zephyr 7B Beta\"]"
      ],
      "metadata": {
        "id": "0Q9nSO3l7v26"
      },
      "execution_count": null,
      "outputs": []
    },
    {
      "cell_type": "code",
      "source": [
        "import torch\n",
        "from transformers import pipeline\n",
        "\n",
        "# Running this may take a minute\n",
        "pipe = pipeline(\"text-generation\", model=model_id, torch_dtype=torch.bfloat16, device_map=\"auto\")"
      ],
      "metadata": {
        "id": "M8KOlOXw70-C"
      },
      "execution_count": null,
      "outputs": []
    },
    {
      "cell_type": "markdown",
      "source": [
        "# **Define the role**"
      ],
      "metadata": {
        "id": "Gl5in3i8htJb"
      }
    },
    {
      "cell_type": "markdown",
      "source": [
        "specify the role you want the chatbot to adopt. For this example, I'll configure it to function as a sports analyst."
      ],
      "metadata": {
        "id": "3OQsemPbh0Qp"
      }
    },
    {
      "cell_type": "code",
      "source": [
        "job_description = \"You are a sport analyst expert. Please answer my questions.\""
      ],
      "metadata": {
        "id": "K2SBgQC_8G16"
      },
      "execution_count": null,
      "outputs": []
    },
    {
      "cell_type": "markdown",
      "source": [
        "Here we execute the model! To conclude the question-answering session, type \"stop\" or \"exit\". Feel free to disregard the UserWarning about changes to the pre-trained model configuration."
      ],
      "metadata": {
        "id": "27fjsHrpiqqT"
      }
    },
    {
      "cell_type": "code",
      "source": [
        "messages = [\n",
        "    {\n",
        "        \"role\": \"system\",\n",
        "        \"content\": job_description,\n",
        "    },\n",
        "]\n",
        "\n",
        "exit_terms = [\"stop\", \"exit\"]\n",
        "\n",
        "while True:\n",
        "    question = input(\"\\nQuestion:\")\n",
        "    if question.lower() in exit_terms:\n",
        "        break\n",
        "    messages.append({\"role\": \"user\", \"content\": question})\n",
        "    prompt = pipe.tokenizer.apply_chat_template(messages, tokenize=False, add_generation_prompt=True)\n",
        "    outputs = pipe(prompt, max_new_tokens=512, do_sample=True, temperature=0.7, top_k=50, top_p=0.95)\n",
        "    output = outputs[0][\"generated_text\"]\n",
        "    messages.append({\"role\": \"assistant\", \"content\": output})\n",
        "    response_start = output.rfind('<|assistant|>')\n",
        "    print(output[response_start + len('<|assistant|>'):])"
      ],
      "metadata": {
        "id": "apMCHExl8U07"
      },
      "execution_count": null,
      "outputs": []
    }
  ]
}